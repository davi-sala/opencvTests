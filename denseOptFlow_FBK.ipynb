{
 "cells": [
  {
   "cell_type": "code",
   "execution_count": 1,
   "metadata": {
    "collapsed": true
   },
   "outputs": [],
   "source": [
    "# Python 2/3 compatibility\n",
    "from __future__ import print_function\n",
    "\n",
    "import numpy as np\n",
    "import cv2\n",
    "import video\n"
   ]
  },
  {
   "cell_type": "code",
   "execution_count": 2,
   "metadata": {
    "collapsed": true
   },
   "outputs": [],
   "source": [
    "def draw_flow(img, flow, step=16):\n",
    "    h, w = img.shape[:2]\n",
    "    y, x = np.mgrid[step/2:h:step, step/2:w:step].reshape(2,-1).astype(int)\n",
    "    fx, fy = flow[y,x].T\n",
    "    lines = np.vstack([x, y, x+fx, y+fy]).T.reshape(-1, 2, 2)\n",
    "    lines = np.int32(lines + 0.5)\n",
    "    vis = cv2.cvtColor(img, cv2.COLOR_GRAY2BGR)\n",
    "    cv2.polylines(vis, lines, 0, (0, 255, 0))\n",
    "    for (x1, y1), (x2, y2) in lines:\n",
    "        cv2.circle(vis, (x1, y1), 1, (0, 255, 0), -1)\n",
    "    return vis\n",
    "\n",
    "def draw_hsv(flow):\n",
    "    h, w = flow.shape[:2]\n",
    "    fx, fy = flow[:,:,0], flow[:,:,1]\n",
    "    ang = np.arctan2(fy, fx) + np.pi\n",
    "    v = np.sqrt(fx*fx+fy*fy)\n",
    "    hsv = np.zeros((h, w, 3), np.uint8)\n",
    "    hsv[...,0] = ang*(180/np.pi/2)\n",
    "    hsv[...,1] = 255\n",
    "    hsv[...,2] = np.minimum(v*4, 255)\n",
    "    bgr = cv2.cvtColor(hsv, cv2.COLOR_HSV2BGR)\n",
    "    return bgr\n",
    "\n",
    "\n",
    "def warp_flow(img, flow):\n",
    "    h, w = flow.shape[:2]\n",
    "    flow = -flow\n",
    "    flow[:,:,0] += np.arange(w)\n",
    "    flow[:,:,1] += np.arange(h)[:,np.newaxis]\n",
    "    res = cv2.remap(img, flow, None, cv2.INTER_LINEAR)\n",
    "    return res"
   ]
  },
  {
   "cell_type": "code",
   "execution_count": 3,
   "metadata": {
    "collapsed": false
   },
   "outputs": [],
   "source": [
    "rows = 250\n",
    "cols = 250\n",
    "\n",
    "rec_sizex = 4\n",
    "rec_sizey = 50\n",
    "rec_posx = 1\n",
    "rec_posy = 100\n",
    "\n",
    "\n",
    "gray = np.zeros((rows,cols),np.uint8)\n",
    "cv2.rectangle(gray,(rec_posx,rec_posy),(rec_posx+rec_sizex,rec_posy+rec_sizey),255,-1)\n",
    "rec_posx+= 10\n",
    "\n",
    "\n",
    "show_hsv = True\n",
    "show_glitch = True\n",
    "cur_glitch = gray.copy()\n",
    "\n",
    "cv2.startWindowThread()\n",
    "cv2.namedWindow(\"flow\")\n",
    "cv2.namedWindow(\"flow HSV\")\n",
    "cv2.namedWindow(\"glitch\")\n",
    "\n",
    "\n",
    "while (rec_posx < cols-rec_sizex):\n",
    "    prevgray = gray\n",
    "\n",
    "    gray = np.zeros((rows,cols),np.uint8)\n",
    "    cv2.rectangle(gray,(rec_posx,rec_posy),(rec_posx+rec_sizex,rec_posy+rec_sizey),255,-1)\n",
    "    rec_posx+=10\n",
    "\n",
    "    flow = cv2.calcOpticalFlowFarneback(prevgray, gray, None, 0.5, 3, 15, 3, 5, 1.2, 0)\n",
    "\n",
    "    cv2.imshow('flow', draw_flow(gray, flow))\n",
    "    cv2.imshow('flow HSV', draw_hsv(flow))\n",
    "    cur_glitch = warp_flow(cur_glitch, flow)\n",
    "    cv2.imshow('glitch', cur_glitch)\n",
    "\n",
    "    ch = cv2.waitKey(0)\n",
    "    if ch == 27:\n",
    "        break\n",
    "cv2.destroyAllWindows()"
   ]
  },
  {
   "cell_type": "code",
   "execution_count": null,
   "metadata": {
    "collapsed": true
   },
   "outputs": [],
   "source": []
  }
 ],
 "metadata": {
  "kernelspec": {
   "display_name": "Python 2",
   "language": "python",
   "name": "python2"
  },
  "language_info": {
   "codemirror_mode": {
    "name": "ipython",
    "version": 2
   },
   "file_extension": ".py",
   "mimetype": "text/x-python",
   "name": "python",
   "nbconvert_exporter": "python",
   "pygments_lexer": "ipython2",
   "version": "2.7.11"
  }
 },
 "nbformat": 4,
 "nbformat_minor": 0
}
