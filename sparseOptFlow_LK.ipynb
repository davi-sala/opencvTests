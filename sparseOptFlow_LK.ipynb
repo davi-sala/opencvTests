{
 "cells": [
  {
   "cell_type": "code",
   "execution_count": 8,
   "metadata": {
    "collapsed": true
   },
   "outputs": [],
   "source": [
    "# Python 2/3 compatibility\n",
    "from __future__ import print_function\n",
    "\n",
    "import numpy as np\n",
    "import cv2\n",
    "import video\n",
    "import imgUtils\n",
    "from common import anorm2, draw_str"
   ]
  },
  {
   "cell_type": "code",
   "execution_count": 18,
   "metadata": {
    "collapsed": false
   },
   "outputs": [],
   "source": [
    "#Params for the Shi-Tomasi corner detector\n",
    "#maxCorners – Maximum number of corners to return. If there are more corners than are found, \n",
    "    #the strongest of them is returned.\n",
    "#qualityLevel – Parameter characterizing the minimal accepted quality of image corners. \n",
    "    #The parameter value is multiplied by the best corner quality measure, \n",
    "    #which is the minimal eigenvalue. The corners with the quality measure less than the product are rejected. \n",
    "    #For example, if the best corner has the quality measure = 1500, and the qualityLevel=0.01 , \n",
    "    #then all the corners with the quality measure less than 15 are rejected.\n",
    "#minDistance – Minimum possible Euclidean distance between the returned corners.\n",
    "#blockSize – Size of an average block for computing a derivative covariation matrix over each pixel neighborhood. \n",
    "feature_params = dict( maxCorners = 100,\n",
    "                       qualityLevel = 0.2,\n",
    "                       minDistance = 2,\n",
    "                       blockSize = 2 )\n",
    "\n",
    "#Params for the LK optical flow\n",
    "#winSize – size of the search window at each pyramid level.\n",
    "#maxLevel – 0-based maximal pyramid level number; if set to 0, \n",
    "    #pyramids are not used (single level), if set to 1, two levels are used, and so on; \n",
    "    #if pyramids are passed to input then algorithm will use as many levels as pyramids \n",
    "    #have but no more than maxLevel.\n",
    "#criteria – parameter, specifying the termination criteria of the iterative search algorithm:\n",
    "    #After the specified maximum number of iterations criteria.maxCount or when the search window moves \n",
    "    #by less than criteria.epsilon.\n",
    "lk_params = dict( winSize  = (5, 5),\n",
    "                  maxLevel = 3,\n",
    "                  criteria = (cv2.TERM_CRITERIA_EPS | cv2.TERM_CRITERIA_COUNT, 10, 0.03))\n",
    "\n"
   ]
  },
  {
   "cell_type": "code",
   "execution_count": 23,
   "metadata": {
    "collapsed": false
   },
   "outputs": [],
   "source": [
    "rows = 250\n",
    "cols = 250\n",
    "\n",
    "rec_sizex = 8\n",
    "rec_sizey = 50\n",
    "rec_posx = 1\n",
    "rec_posy = 100\n",
    "mov_size = 5\n",
    "\n",
    "\n",
    "# Create some random colors\n",
    "color = np.random.randint(0,255,(20,1))\n",
    "\n",
    "#create a empty img and draw a rectangle \n",
    "gray = np.zeros((rows,cols),np.uint8)\n",
    "cv2.rectangle(gray,(rec_posx,rec_posy),(rec_posx+rec_sizex,rec_posy+rec_sizey),255,-1)\n",
    "rec_posx+= mov_size\n",
    "\n",
    "#find corners in the created frame\n",
    "p0 = cv2.goodFeaturesToTrack(gray, mask = None, **feature_params) \n",
    "\n",
    "#create a mask for drawing tracks later\n",
    "mask = np.zeros_like(gray)\n",
    "\n",
    "cv2.startWindowThread()\n",
    "cv2.namedWindow(\"img\")\n",
    "\n",
    "\n",
    "while (rec_posx < cols-rec_sizex):\n",
    "    \n",
    "    if p0 is None :\n",
    "        print(\"p0 is empty (calculating new one) \\n P0_old:\")\n",
    "        print(p0)\n",
    "        p0 = cv2.goodFeaturesToTrack(gray, mask = None, **feature_params) \n",
    "        print(\"P0_new:\")\n",
    "        print(p0)\n",
    "    \n",
    "    #move the rectangle by 'mov_size\" pixels to the left\n",
    "    prevgray = gray\n",
    "    gray = np.zeros((rows,cols),np.uint8)\n",
    "    cv2.rectangle(gray,(rec_posx,rec_posy),(rec_posx+rec_sizex,rec_posy+rec_sizey),255,-1)\n",
    "    rec_posx += mov_size\n",
    "    \n",
    "    #calc sparse optical flow\n",
    "    p1, st, err = cv2.calcOpticalFlowPyrLK(prevgray, gray, p0, None, **lk_params)\n",
    "    \n",
    "    if p1 is not None :\n",
    "        #select good points\n",
    "        good_new = p1[st==1]\n",
    "        good_old = p0[st==1]\n",
    "\n",
    "        #draw the movement tracks\n",
    "        # draw the tracks\n",
    "        for i,(new,old) in enumerate(zip(good_new,good_old)):\n",
    "            a,b = new.ravel()\n",
    "            c,d = old.ravel()\n",
    "            mask = cv2.line(mask, (a,b),(c,d), color[i].tolist(), 2)\n",
    "            prevgray = cv2.circle(prevgray,(a,b),5,color[i].tolist(),-1)\n",
    "        img = cv2.add(prevgray,mask)\n",
    "\n",
    "        #update the new points to track\n",
    "        p0 = good_new.reshape(-1,1,2)\n",
    "\n",
    "\n",
    "        #prints the img\n",
    "        cv2.imshow('img',img)\n",
    "        ch = cv2.waitKey(0)\n",
    "        if ch == 27:\n",
    "            break\n",
    "    else:\n",
    "        p0 = p1\n",
    "        print(\"No features were tracked by LK algorithm\")\n",
    "cv2.destroyAllWindows()"
   ]
  },
  {
   "cell_type": "code",
   "execution_count": null,
   "metadata": {
    "collapsed": true
   },
   "outputs": [],
   "source": []
  }
 ],
 "metadata": {
  "kernelspec": {
   "display_name": "Python 2",
   "language": "python",
   "name": "python2"
  },
  "language_info": {
   "codemirror_mode": {
    "name": "ipython",
    "version": 2
   },
   "file_extension": ".py",
   "mimetype": "text/x-python",
   "name": "python",
   "nbconvert_exporter": "python",
   "pygments_lexer": "ipython2",
   "version": "2.7.11"
  }
 },
 "nbformat": 4,
 "nbformat_minor": 0
}
